{
 "cells": [
  {
   "cell_type": "code",
   "execution_count": 2,
   "id": "75e0d127",
   "metadata": {},
   "outputs": [],
   "source": [
    "import os\n",
    "import django\n",
    "os.environ.setdefault('DJANGO_SETTINGS_MODULE', 'gproject.settings')\n",
    "os.environ[\"DJANGO_ALLOW_ASYNC_UNSAFE\"] = \"true\"\n",
    "django.setup()\n",
    "from articles.models import Article, Pathway"
   ]
  },
  {
   "cell_type": "code",
   "execution_count": 3,
   "id": "d9aec8f2",
   "metadata": {},
   "outputs": [
    {
     "data": {
      "text/plain": [
       "[<Article: Article object (13)>,\n",
       " <Article: Article object (1978)>,\n",
       " <Article: Article object (18)>,\n",
       " <Article: Article object (8)>,\n",
       " <Article: Article object (9)>,\n",
       " <Article: Article object (15)>,\n",
       " <Article: Article object (13893)>,\n",
       " <Article: Article object (13894)>,\n",
       " <Article: Article object (13895)>,\n",
       " <Article: Article object (204)>]"
      ]
     },
     "execution_count": 3,
     "metadata": {},
     "output_type": "execute_result"
    }
   ],
   "source": [
    "articles = Article.objects.all()[:10]\n",
    "[entry for entry in articles]"
   ]
  },
  {
   "cell_type": "code",
   "execution_count": 14,
   "id": "328a3907",
   "metadata": {},
   "outputs": [
    {
     "name": "stdout",
     "output_type": "stream",
     "text": [
      "Loading from \\content\n"
     ]
    }
   ],
   "source": [
    "# Output directory\n",
    "import spacy\n",
    "from pathlib import Path\n",
    "from spacy.training import Example\n",
    "from spacy import displacy\n",
    "from IPython.core.display import display, HTML\n",
    "from IPython.display import clear_output\n",
    "from nltk.sentiment import SentimentIntensityAnalyzer\n",
    "from textblob import TextBlob\n",
    "import requests\n",
    "\n",
    "output_dir=Path('/content/')\n",
    "\n",
    "# Loading the model from the directory\n",
    "print(\"Loading from\", output_dir)\n",
    "nlp = spacy.load(output_dir)\n",
    "nlp.add_pipe('sentencizer')\n",
    "\n",
    "sia = SentimentIntensityAnalyzer()"
   ]
  }
 ],
 "metadata": {
  "kernelspec": {
   "display_name": "Django Shell-Plus",
   "language": "python",
   "name": "django_extensions"
  },
  "language_info": {
   "codemirror_mode": {
    "name": "ipython",
    "version": 3
   },
   "file_extension": ".py",
   "mimetype": "text/x-python",
   "name": "python",
   "nbconvert_exporter": "python",
   "pygments_lexer": "ipython3",
   "version": "3.8.6"
  }
 },
 "nbformat": 4,
 "nbformat_minor": 5
}
