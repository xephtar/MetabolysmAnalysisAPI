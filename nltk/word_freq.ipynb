{
 "cells": [
  {
   "cell_type": "code",
   "execution_count": 10,
   "id": "1d74e621-00a6-4af8-b3d0-87e20dd89a33",
   "metadata": {},
   "outputs": [
    {
     "name": "stderr",
     "output_type": "stream",
     "text": [
      "[nltk_data] Downloading package punkt to\n",
      "[nltk_data]     /Users/omerfaruk.davarci/nltk_data...\n",
      "[nltk_data]   Package punkt is already up-to-date!\n"
     ]
    }
   ],
   "source": [
    "import nltk\n",
    "nltk.download('punkt')\n",
    "from nltk.tokenize import word_tokenize, sent_tokenize"
   ]
  },
  {
   "cell_type": "code",
   "execution_count": 11,
   "id": "319cb665-bf84-404e-b516-dc1080d9d11a",
   "metadata": {},
   "outputs": [
    {
     "name": "stderr",
     "output_type": "stream",
     "text": [
      "[nltk_data] Downloading package stopwords to\n",
      "[nltk_data]     /Users/omerfaruk.davarci/nltk_data...\n",
      "[nltk_data]   Package stopwords is already up-to-date!\n"
     ]
    }
   ],
   "source": [
    "nltk.download('stopwords')\n",
    "from nltk.corpus import stopwords\n",
    "stopWords = set(stopwords.words('turkish'))\n",
    "sentence=\"Ali ile Ayşe okula gitti.\"\n",
    "words = word_tokenize(sentence)\n",
    "wordsFiltered = []\n",
    " \n",
    "for w in words:\n",
    "    if w not in stopWords:\n",
    "        wordsFiltered.append(w)"
   ]
  },
  {
   "cell_type": "code",
   "execution_count": 12,
   "id": "bc5e6cf2-642f-4819-8972-4ec15dc878a3",
   "metadata": {},
   "outputs": [
    {
     "name": "stdout",
     "output_type": "stream",
     "text": [
      "['Ali', 'Ayşe', 'okula', 'gitti', '.']\n"
     ]
    }
   ],
   "source": [
    "print(wordsFiltered)"
   ]
  },
  {
   "cell_type": "code",
   "execution_count": 13,
   "id": "9cec8824-9fc9-481d-9e46-e387744366f1",
   "metadata": {},
   "outputs": [
    {
     "name": "stdout",
     "output_type": "stream",
     "text": [
      "Requirement already satisfied: transformers in /Users/omerfaruk.davarci/Documents/MetabolysmAnalysisAPI/venv/lib/python3.9/site-packages (4.7.0)\n",
      "Requirement already satisfied: regex!=2019.12.17 in /Users/omerfaruk.davarci/Documents/MetabolysmAnalysisAPI/venv/lib/python3.9/site-packages (from transformers) (2020.11.13)\n",
      "Requirement already satisfied: huggingface-hub==0.0.8 in /Users/omerfaruk.davarci/Documents/MetabolysmAnalysisAPI/venv/lib/python3.9/site-packages (from transformers) (0.0.8)\n",
      "Requirement already satisfied: filelock in /Users/omerfaruk.davarci/Documents/MetabolysmAnalysisAPI/venv/lib/python3.9/site-packages (from transformers) (3.0.12)\n",
      "Requirement already satisfied: sacremoses in /Users/omerfaruk.davarci/Documents/MetabolysmAnalysisAPI/venv/lib/python3.9/site-packages (from transformers) (0.0.45)\n",
      "Requirement already satisfied: tqdm>=4.27 in /Users/omerfaruk.davarci/Documents/MetabolysmAnalysisAPI/venv/lib/python3.9/site-packages (from transformers) (4.56.0)\n",
      "Requirement already satisfied: numpy>=1.17 in /Users/omerfaruk.davarci/Documents/MetabolysmAnalysisAPI/venv/lib/python3.9/site-packages (from transformers) (1.19.5)\n",
      "Requirement already satisfied: pyyaml in /Users/omerfaruk.davarci/Documents/MetabolysmAnalysisAPI/venv/lib/python3.9/site-packages (from transformers) (5.4.1)\n",
      "Requirement already satisfied: tokenizers<0.11,>=0.10.1 in /Users/omerfaruk.davarci/Documents/MetabolysmAnalysisAPI/venv/lib/python3.9/site-packages (from transformers) (0.10.3)\n",
      "Requirement already satisfied: requests in /Users/omerfaruk.davarci/Documents/MetabolysmAnalysisAPI/venv/lib/python3.9/site-packages (from transformers) (2.25.1)\n",
      "Requirement already satisfied: packaging in /Users/omerfaruk.davarci/Documents/MetabolysmAnalysisAPI/venv/lib/python3.9/site-packages (from transformers) (20.9)\n",
      "Requirement already satisfied: pyparsing>=2.0.2 in /Users/omerfaruk.davarci/Documents/MetabolysmAnalysisAPI/venv/lib/python3.9/site-packages (from packaging->transformers) (2.4.7)\n",
      "Requirement already satisfied: chardet<5,>=3.0.2 in /Users/omerfaruk.davarci/Documents/MetabolysmAnalysisAPI/venv/lib/python3.9/site-packages (from requests->transformers) (4.0.0)\n",
      "Requirement already satisfied: idna<3,>=2.5 in /Users/omerfaruk.davarci/Documents/MetabolysmAnalysisAPI/venv/lib/python3.9/site-packages (from requests->transformers) (2.10)\n",
      "Requirement already satisfied: certifi>=2017.4.17 in /Users/omerfaruk.davarci/Documents/MetabolysmAnalysisAPI/venv/lib/python3.9/site-packages (from requests->transformers) (2020.12.5)\n",
      "Requirement already satisfied: urllib3<1.27,>=1.21.1 in /Users/omerfaruk.davarci/Documents/MetabolysmAnalysisAPI/venv/lib/python3.9/site-packages (from requests->transformers) (1.26.2)\n",
      "Requirement already satisfied: six in /Users/omerfaruk.davarci/Documents/MetabolysmAnalysisAPI/venv/lib/python3.9/site-packages (from sacremoses->transformers) (1.15.0)\n",
      "Requirement already satisfied: click in /Users/omerfaruk.davarci/Documents/MetabolysmAnalysisAPI/venv/lib/python3.9/site-packages (from sacremoses->transformers) (7.1.2)\n",
      "Requirement already satisfied: joblib in /Users/omerfaruk.davarci/Documents/MetabolysmAnalysisAPI/venv/lib/python3.9/site-packages (from sacremoses->transformers) (1.0.0)\n",
      "\u001b[33mWARNING: You are using pip version 21.1.2; however, version 21.2.4 is available.\n",
      "You should consider upgrading via the '/Users/omerfaruk.davarci/Documents/MetabolysmAnalysisAPI/venv/bin/python -m pip install --upgrade pip' command.\u001b[0m\n"
     ]
    }
   ],
   "source": [
    "!pip install transformers"
   ]
  },
  {
   "cell_type": "code",
   "execution_count": 16,
   "id": "1bcf9265-db83-439c-bdca-fef010923e13",
   "metadata": {},
   "outputs": [
    {
     "data": {
      "application/vnd.jupyter.widget-view+json": {
       "model_id": "a86ccf541f94476182177facb0f137b3",
       "version_major": 2,
       "version_minor": 0
      },
      "text/plain": [
       "Downloading:   0%|          | 0.00/385 [00:00<?, ?B/s]"
      ]
     },
     "metadata": {},
     "output_type": "display_data"
    },
    {
     "data": {
      "application/vnd.jupyter.widget-view+json": {
       "model_id": "ac5210284ae3465d8e949c1caea34d57",
       "version_major": 2,
       "version_minor": 0
      },
      "text/plain": [
       "Downloading:   0%|          | 0.00/251k [00:00<?, ?B/s]"
      ]
     },
     "metadata": {},
     "output_type": "display_data"
    },
    {
     "data": {
      "application/vnd.jupyter.widget-view+json": {
       "model_id": "d65c81789ac04115b30a0659d74ffbc1",
       "version_major": 2,
       "version_minor": 0
      },
      "text/plain": [
       "Downloading:   0%|          | 0.00/60.0 [00:00<?, ?B/s]"
      ]
     },
     "metadata": {},
     "output_type": "display_data"
    },
    {
     "data": {
      "application/vnd.jupyter.widget-view+json": {
       "model_id": "38fedcbb039e41269668e74c854a7f82",
       "version_major": 2,
       "version_minor": 0
      },
      "text/plain": [
       "Downloading:   0%|          | 0.00/445M [00:00<?, ?B/s]"
      ]
     },
     "metadata": {},
     "output_type": "display_data"
    },
    {
     "name": "stderr",
     "output_type": "stream",
     "text": [
      "Some weights of the model checkpoint at dbmdz/bert-base-turkish-cased were not used when initializing BertModel: ['cls.predictions.bias', 'cls.predictions.transform.dense.bias', 'cls.seq_relationship.weight', 'cls.predictions.transform.LayerNorm.bias', 'cls.predictions.decoder.bias', 'cls.predictions.transform.LayerNorm.weight', 'cls.seq_relationship.bias', 'cls.predictions.decoder.weight', 'cls.predictions.transform.dense.weight']\n",
      "- This IS expected if you are initializing BertModel from the checkpoint of a model trained on another task or with another architecture (e.g. initializing a BertForSequenceClassification model from a BertForPreTraining model).\n",
      "- This IS NOT expected if you are initializing BertModel from the checkpoint of a model that you expect to be exactly identical (initializing a BertForSequenceClassification model from a BertForSequenceClassification model).\n"
     ]
    }
   ],
   "source": [
    "from transformers import AutoModel, AutoTokenizer\n",
    "\n",
    "tokenizer = AutoTokenizer.from_pretrained(\"dbmdz/bert-base-turkish-cased\")\n",
    "\n",
    "model = AutoModel.from_pretrained(\"dbmdz/bert-base-turkish-cased\")"
   ]
  },
  {
   "cell_type": "code",
   "execution_count": 116,
   "id": "9635c73f-59a6-4a75-8109-1852a64fe347",
   "metadata": {},
   "outputs": [],
   "source": [
    "text=\"Bizim tarafımızdan gönderilen üründe bir sorun yoktur. Kokulu kolyeler o kişiye uymamış olabilir.\".lower()\n",
    "marked_text = \"[CLS] \" + text + \" [SEP]\""
   ]
  },
  {
   "cell_type": "code",
   "execution_count": 117,
   "id": "25fced43-4dcc-4ae2-8b4b-16bbdda097ae",
   "metadata": {},
   "outputs": [
    {
     "name": "stdout",
     "output_type": "stream",
     "text": [
      "[CLS]             2\n",
      "bizim         3,348\n",
      "tarafı        9,094\n",
      "##mız         4,666\n",
      "##dan         2,030\n",
      "gönderilen   10,921\n",
      "ürün          2,782\n",
      "##de          1,988\n",
      "bir           1,996\n",
      "sorun         2,906\n",
      "yoktur        4,506\n",
      ".                18\n",
      "kokulu       23,104\n",
      "kolye        24,160\n",
      "##ler         1,990\n",
      "o                83\n",
      "kişiye        6,683\n",
      "uy            2,211\n",
      "##mamış       6,438\n",
      "olabilir      3,038\n",
      ".                18\n",
      "[SEP]             3\n"
     ]
    }
   ],
   "source": [
    "# Split the sentence into tokens.\n",
    "tokenized_text = tokenizer.tokenize(marked_text)\n",
    "\n",
    "# Map the token strings to their vocabulary indeces.\n",
    "indexed_tokens = tokenizer.convert_tokens_to_ids(tokenized_text)\n",
    "\n",
    "# Display the words with their indeces.\n",
    "for tup in zip(tokenized_text, indexed_tokens):\n",
    "    print('{:<12} {:>6,}'.format(tup[0], tup[1]))"
   ]
  },
  {
   "cell_type": "code",
   "execution_count": 118,
   "id": "0a3b49bc-4828-45f8-b227-125e548f9b23",
   "metadata": {},
   "outputs": [],
   "source": [
    "from TurkishStemmer import TurkishStemmer\n",
    "stemmer = TurkishStemmer()"
   ]
  },
  {
   "cell_type": "code",
   "execution_count": 119,
   "id": "fbb9b91f-7e66-4fbf-90cd-3cfe0737b473",
   "metadata": {},
   "outputs": [
    {
     "name": "stdout",
     "output_type": "stream",
     "text": [
      "Requirement already satisfied: TurkishStemmer in /Users/omerfaruk.davarci/Documents/MetabolysmAnalysisAPI/venv/lib/python3.9/site-packages (1.3)\n",
      "\u001b[33mWARNING: You are using pip version 21.1.2; however, version 21.2.4 is available.\n",
      "You should consider upgrading via the '/Users/omerfaruk.davarci/Documents/MetabolysmAnalysisAPI/venv/bin/python -m pip install --upgrade pip' command.\u001b[0m\n"
     ]
    }
   ],
   "source": [
    "!pip install TurkishStemmer"
   ]
  },
  {
   "cell_type": "code",
   "execution_count": 120,
   "id": "9ecbacee-6055-46b9-a45b-c19653603fa2",
   "metadata": {},
   "outputs": [
    {
     "name": "stderr",
     "output_type": "stream",
     "text": [
      "[nltk_data] Downloading package punkt to\n",
      "[nltk_data]     /Users/omerfaruk.davarci/nltk_data...\n",
      "[nltk_data]   Package punkt is already up-to-date!\n"
     ]
    }
   ],
   "source": [
    "import nltk\n",
    "nltk.download(\"punkt\")\n",
    "\n",
    "from nltk.corpus import stopwords\n",
    "from nltk.tokenize import word_tokenize\n",
    "\n",
    "stop_words = set(stopwords.words('turkish'))\n",
    "\n",
    "word_tokens = word_tokenize(text)\n",
    "\n",
    "filtered_sentence = []\n",
    "\n",
    "for w in word_tokens:\n",
    "    if w not in stop_words and w.isalnum():\n",
    "        w = stemmer.stem(w)\n",
    "        filtered_sentence.append(w)"
   ]
  },
  {
   "cell_type": "code",
   "execution_count": 121,
   "id": "9eb2f07b-2531-460a-8ede-31d6d1b0b93d",
   "metadata": {},
   "outputs": [],
   "source": [
    "from nltk.tokenize import word_tokenize\n",
    "from nltk.probability import FreqDist\n",
    "fdist = FreqDist()\n",
    "fdist = FreqDist(word.lower() for word in filtered_sentence)"
   ]
  },
  {
   "cell_type": "code",
   "execution_count": 122,
   "id": "ab832caa-87d3-4b73-8208-1a1908bef3e6",
   "metadata": {},
   "outputs": [
    {
     "data": {
      "text/plain": [
       "FreqDist({'biz': 1, 'taraf': 1, 'gönderilen': 1, 'ürün': 1, 'bir': 1, 'sor': 1, 'yok': 1, 'koku': 1, 'kolye': 1, 'kişi': 1, ...})"
      ]
     },
     "execution_count": 122,
     "metadata": {},
     "output_type": "execute_result"
    }
   ],
   "source": [
    "fdist"
   ]
  },
  {
   "cell_type": "code",
   "execution_count": 123,
   "id": "af36e6b1-5436-4f1a-8459-2065d3826995",
   "metadata": {},
   "outputs": [
    {
     "data": {
      "text/plain": [
       "'biz'"
      ]
     },
     "execution_count": 123,
     "metadata": {},
     "output_type": "execute_result"
    }
   ],
   "source": [
    "fdist.max()"
   ]
  },
  {
   "cell_type": "code",
   "execution_count": 124,
   "id": "19f43a9a-2893-4f9f-b71b-5cd7ce1f400d",
   "metadata": {},
   "outputs": [
    {
     "data": {
      "image/png": "[encoded data removed]",
      "text/plain": [
       "<Figure size 432x288 with 1 Axes>"
      ]
     },
     "metadata": {
      "needs_background": "light"
     },
     "output_type": "display_data"
    },
    {
     "data": {
      "text/plain": [
       "<AxesSubplot:xlabel='Samples', ylabel='Counts'>"
      ]
     },
     "execution_count": 124,
     "metadata": {},
     "output_type": "execute_result"
    }
   ],
   "source": [
    "fdist.plot()"
   ]
  },
  {
   "cell_type": "code",
   "execution_count": 126,
   "id": "bed75e31-0828-4cc7-8396-be8777702707",
   "metadata": {},
   "outputs": [
    {
     "name": "stdout",
     "output_type": "stream",
     "text": [
      "bizim tarafımızdan gönderilen üründe bir sorun yoktur. kokulu kolyeler o kişiye uymamış olabilir.\n",
      "['biz', 'taraf', 'gönderilen', 'ürün', 'bir', 'sor', 'yok', 'koku', 'kolye', 'kişi', 'uyma', 'olabilir']\n"
     ]
    }
   ],
   "source": [
    "print(text)\n",
    "print(filtered_sentence)"
   ]
  },
  {
   "cell_type": "code",
   "execution_count": 138,
   "id": "7fc5804f-25f9-4723-ae55-4d6ffa45a87e",
   "metadata": {},
   "outputs": [
    {
     "name": "stdout",
     "output_type": "stream",
     "text": [
      "Collecting NlpToolkit-WordNet\n",
      "  Downloading NlpToolkit-WordNet-1.0.17.tar.gz (14 kB)\n",
      "Collecting NlpToolkit-MorphologicalAnalysis\n",
      "  Downloading NlpToolkit-MorphologicalAnalysis-1.0.32.tar.gz (36 kB)\n",
      "Collecting NlpToolkit-Dictionary\n",
      "  Downloading NlpToolkit-Dictionary-1.0.20.tar.gz (16 kB)\n",
      "Collecting NlpToolkit-Corpus\n",
      "  Downloading NlpToolkit-Corpus-1.0.11.tar.gz (9.7 kB)\n",
      "Collecting NlpToolkit-DataStructure\n",
      "  Downloading NlpToolkit-DataStructure-1.0.9.tar.gz (3.4 kB)\n",
      "Collecting NlpToolkit-Math\n",
      "  Downloading NlpToolkit-Math-1.0.14.tar.gz (13 kB)\n",
      "Using legacy 'setup.py install' for NlpToolkit-WordNet, since package 'wheel' is not installed.\n",
      "Using legacy 'setup.py install' for NlpToolkit-MorphologicalAnalysis, since package 'wheel' is not installed.\n",
      "Using legacy 'setup.py install' for NlpToolkit-Corpus, since package 'wheel' is not installed.\n",
      "Using legacy 'setup.py install' for NlpToolkit-DataStructure, since package 'wheel' is not installed.\n",
      "Using legacy 'setup.py install' for NlpToolkit-Dictionary, since package 'wheel' is not installed.\n",
      "Using legacy 'setup.py install' for NlpToolkit-Math, since package 'wheel' is not installed.\n",
      "Installing collected packages: NlpToolkit-Math, NlpToolkit-Dictionary, NlpToolkit-DataStructure, NlpToolkit-Corpus, NlpToolkit-MorphologicalAnalysis, NlpToolkit-WordNet\n",
      "    Running setup.py install for NlpToolkit-Math ... \u001b[?25ldone\n",
      "\u001b[?25h    Running setup.py install for NlpToolkit-Dictionary ... \u001b[?25ldone\n",
      "\u001b[?25h    Running setup.py install for NlpToolkit-DataStructure ... \u001b[?25ldone\n",
      "\u001b[?25h    Running setup.py install for NlpToolkit-Corpus ... \u001b[?25ldone\n",
      "\u001b[?25h    Running setup.py install for NlpToolkit-MorphologicalAnalysis ... \u001b[?25ldone\n",
      "\u001b[?25h    Running setup.py install for NlpToolkit-WordNet ... \u001b[?25ldone\n",
      "\u001b[?25hSuccessfully installed NlpToolkit-Corpus-1.0.11 NlpToolkit-DataStructure-1.0.9 NlpToolkit-Dictionary-1.0.20 NlpToolkit-Math-1.0.14 NlpToolkit-MorphologicalAnalysis-1.0.32 NlpToolkit-WordNet-1.0.17\n",
      "\u001b[33mWARNING: You are using pip version 21.1.2; however, version 21.2.4 is available.\n",
      "You should consider upgrading via the '/Users/omerfaruk.davarci/Documents/MetabolysmAnalysisAPI/venv/bin/python -m pip install --upgrade pip' command.\u001b[0m\n"
     ]
    }
   ],
   "source": [
    "!pip3 install NlpToolkit-WordNet"
   ]
  },
  {
   "cell_type": "code",
   "execution_count": 143,
   "id": "6194b7fc-edd9-40a7-b614-9973ee74ec99",
   "metadata": {},
   "outputs": [
    {
     "ename": "FileNotFoundError",
     "evalue": "[Errno 2] No such file or directory: 'turkish_wordnet.xml'",
     "output_type": "error",
     "traceback": [
      "\u001b[0;31m---------------------------------------------------------------------------\u001b[0m",
      "\u001b[0;31mFileNotFoundError\u001b[0m                         Traceback (most recent call last)",
      "\u001b[0;32m<ipython-input-143-ac1ae1e7ec09>\u001b[0m in \u001b[0;36m<module>\u001b[0;34m\u001b[0m\n\u001b[1;32m      1\u001b[0m \u001b[0;32mfrom\u001b[0m \u001b[0mWordNet\u001b[0m\u001b[0;34m.\u001b[0m\u001b[0mWordNet\u001b[0m \u001b[0;32mimport\u001b[0m \u001b[0mWordNet\u001b[0m\u001b[0;34m\u001b[0m\u001b[0;34m\u001b[0m\u001b[0m\n\u001b[1;32m      2\u001b[0m \u001b[0;34m\u001b[0m\u001b[0m\n\u001b[0;32m----> 3\u001b[0;31m \u001b[0ma\u001b[0m \u001b[0;34m=\u001b[0m \u001b[0mWordNet\u001b[0m\u001b[0;34m(\u001b[0m\u001b[0;34m)\u001b[0m\u001b[0;34m\u001b[0m\u001b[0;34m\u001b[0m\u001b[0m\n\u001b[0m",
      "\u001b[0;32m~/Documents/MetabolysmAnalysisAPI/venv/lib/python3.9/site-packages/WordNet/WordNet.py\u001b[0m in \u001b[0;36m__init__\u001b[0;34m(self, fileName, exceptionFileName)\u001b[0m\n\u001b[1;32m     38\u001b[0m         \u001b[0mself\u001b[0m\u001b[0;34m.\u001b[0m\u001b[0m__synSetList\u001b[0m \u001b[0;34m=\u001b[0m \u001b[0mOrderedDict\u001b[0m\u001b[0;34m(\u001b[0m\u001b[0;34m)\u001b[0m\u001b[0;34m\u001b[0m\u001b[0;34m\u001b[0m\u001b[0m\n\u001b[1;32m     39\u001b[0m         \u001b[0mself\u001b[0m\u001b[0;34m.\u001b[0m\u001b[0m__literalList\u001b[0m \u001b[0;34m=\u001b[0m \u001b[0mOrderedDict\u001b[0m\u001b[0;34m(\u001b[0m\u001b[0;34m)\u001b[0m\u001b[0;34m\u001b[0m\u001b[0;34m\u001b[0m\u001b[0m\n\u001b[0;32m---> 40\u001b[0;31m         \u001b[0mroot\u001b[0m \u001b[0;34m=\u001b[0m \u001b[0mxml\u001b[0m\u001b[0;34m.\u001b[0m\u001b[0metree\u001b[0m\u001b[0;34m.\u001b[0m\u001b[0mElementTree\u001b[0m\u001b[0;34m.\u001b[0m\u001b[0mparse\u001b[0m\u001b[0;34m(\u001b[0m\u001b[0mfileName\u001b[0m\u001b[0;34m)\u001b[0m\u001b[0;34m.\u001b[0m\u001b[0mgetroot\u001b[0m\u001b[0;34m(\u001b[0m\u001b[0;34m)\u001b[0m\u001b[0;34m\u001b[0m\u001b[0;34m\u001b[0m\u001b[0m\n\u001b[0m\u001b[1;32m     41\u001b[0m         \u001b[0mcurrentSynSet\u001b[0m \u001b[0;34m=\u001b[0m \u001b[0;32mNone\u001b[0m\u001b[0;34m\u001b[0m\u001b[0;34m\u001b[0m\u001b[0m\n\u001b[1;32m     42\u001b[0m         \u001b[0;32mfor\u001b[0m \u001b[0msynSetNode\u001b[0m \u001b[0;32min\u001b[0m \u001b[0mroot\u001b[0m\u001b[0;34m:\u001b[0m\u001b[0;34m\u001b[0m\u001b[0;34m\u001b[0m\u001b[0m\n",
      "\u001b[0;32m/usr/local/Cellar/python@3.9/3.9.6/Frameworks/Python.framework/Versions/3.9/lib/python3.9/xml/etree/ElementTree.py\u001b[0m in \u001b[0;36mparse\u001b[0;34m(source, parser)\u001b[0m\n\u001b[1;32m   1227\u001b[0m     \"\"\"\n\u001b[1;32m   1228\u001b[0m     \u001b[0mtree\u001b[0m \u001b[0;34m=\u001b[0m \u001b[0mElementTree\u001b[0m\u001b[0;34m(\u001b[0m\u001b[0;34m)\u001b[0m\u001b[0;34m\u001b[0m\u001b[0;34m\u001b[0m\u001b[0m\n\u001b[0;32m-> 1229\u001b[0;31m     \u001b[0mtree\u001b[0m\u001b[0;34m.\u001b[0m\u001b[0mparse\u001b[0m\u001b[0;34m(\u001b[0m\u001b[0msource\u001b[0m\u001b[0;34m,\u001b[0m \u001b[0mparser\u001b[0m\u001b[0;34m)\u001b[0m\u001b[0;34m\u001b[0m\u001b[0;34m\u001b[0m\u001b[0m\n\u001b[0m\u001b[1;32m   1230\u001b[0m     \u001b[0;32mreturn\u001b[0m \u001b[0mtree\u001b[0m\u001b[0;34m\u001b[0m\u001b[0;34m\u001b[0m\u001b[0m\n\u001b[1;32m   1231\u001b[0m \u001b[0;34m\u001b[0m\u001b[0m\n",
      "\u001b[0;32m/usr/local/Cellar/python@3.9/3.9.6/Frameworks/Python.framework/Versions/3.9/lib/python3.9/xml/etree/ElementTree.py\u001b[0m in \u001b[0;36mparse\u001b[0;34m(self, source, parser)\u001b[0m\n\u001b[1;32m    567\u001b[0m         \u001b[0mclose_source\u001b[0m \u001b[0;34m=\u001b[0m \u001b[0;32mFalse\u001b[0m\u001b[0;34m\u001b[0m\u001b[0;34m\u001b[0m\u001b[0m\n\u001b[1;32m    568\u001b[0m         \u001b[0;32mif\u001b[0m \u001b[0;32mnot\u001b[0m \u001b[0mhasattr\u001b[0m\u001b[0;34m(\u001b[0m\u001b[0msource\u001b[0m\u001b[0;34m,\u001b[0m \u001b[0;34m\"read\"\u001b[0m\u001b[0;34m)\u001b[0m\u001b[0;34m:\u001b[0m\u001b[0;34m\u001b[0m\u001b[0;34m\u001b[0m\u001b[0m\n\u001b[0;32m--> 569\u001b[0;31m             \u001b[0msource\u001b[0m \u001b[0;34m=\u001b[0m \u001b[0mopen\u001b[0m\u001b[0;34m(\u001b[0m\u001b[0msource\u001b[0m\u001b[0;34m,\u001b[0m \u001b[0;34m\"rb\"\u001b[0m\u001b[0;34m)\u001b[0m\u001b[0;34m\u001b[0m\u001b[0;34m\u001b[0m\u001b[0m\n\u001b[0m\u001b[1;32m    570\u001b[0m             \u001b[0mclose_source\u001b[0m \u001b[0;34m=\u001b[0m \u001b[0;32mTrue\u001b[0m\u001b[0;34m\u001b[0m\u001b[0;34m\u001b[0m\u001b[0m\n\u001b[1;32m    571\u001b[0m         \u001b[0;32mtry\u001b[0m\u001b[0;34m:\u001b[0m\u001b[0;34m\u001b[0m\u001b[0;34m\u001b[0m\u001b[0m\n",
      "\u001b[0;31mFileNotFoundError\u001b[0m: [Errno 2] No such file or directory: 'turkish_wordnet.xml'"
     ]
    }
   ],
   "source": [
    "from WordNet.WordNet import WordNet\n",
    "\n",
    "a = WordNet()"
   ]
  },
  {
   "cell_type": "code",
   "execution_count": null,
   "id": "4c509f60-6a12-464e-85cd-ce69be5109c1",
   "metadata": {},
   "outputs": [],
   "source": []
  }
 ],
 "metadata": {
  "kernelspec": {
   "display_name": "Python 3",
   "language": "python",
   "name": "python3"
  },
  "language_info": {
   "codemirror_mode": {
    "name": "ipython",
    "version": 3
   },
   "file_extension": ".py",
   "mimetype": "text/x-python",
   "name": "python",
   "nbconvert_exporter": "python",
   "pygments_lexer": "ipython3",
   "version": "3.9.6"
  }
 },
 "nbformat": 4,
 "nbformat_minor": 5
}
