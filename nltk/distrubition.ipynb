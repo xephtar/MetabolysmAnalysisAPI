{
 "cells": [
  {
   "cell_type": "code",
   "execution_count": 1,
   "id": "5310e92b-d642-4f97-8532-5f0a75fc0e54",
   "metadata": {},
   "outputs": [
    {
     "name": "stdout",
     "output_type": "stream",
     "text": [
      "1994\n"
     ]
    }
   ],
   "source": [
    "import json\n",
    "import pandas as pd    \n",
    "from IPython.display import JSON\n",
    "\n",
    "data = list()\n",
    "\n",
    "for i in range(3,4):\n",
    "    filename = \"data_\" + str(i) + \".json\"\n",
    "    # Opening JSON file\n",
    "    f = open(filename)\n",
    "\n",
    "    # returns JSON object as \n",
    "    # a dictionary\n",
    "    data_json = json.load(f)\n",
    "    print(len(data_json))\n",
    "    data += data_json\n",
    "\n",
    "    f.close()"
   ]
  },
  {
   "cell_type": "code",
   "execution_count": 3,
   "id": "9bf25980-61c9-46dc-8ce8-7f184dfaeb2c",
   "metadata": {},
   "outputs": [],
   "source": [
    "df = pd.json_normalize(data)\n",
    "df = df['ClaimBucket.claimIssue.description']\n",
    "df.name = \"description\""
   ]
  },
  {
   "cell_type": "code",
   "execution_count": 4,
   "id": "67423b87-0f43-40f2-a7fd-0bf73f51396f",
   "metadata": {},
   "outputs": [],
   "source": [
    "from nltk.corpus import stopwords\n",
    "from nltk.tokenize import word_tokenize\n",
    "from nltk.probability import FreqDist\n",
    "\n",
    "fdist = FreqDist()\n",
    "\n",
    "stop_words = set(stopwords.words('turkish'))\n",
    "\n",
    "for text in df:\n",
    "    word_tokens = word_tokenize(text.lower())\n",
    "    \n",
    "    filtered_sentence = []\n",
    "    \n",
    "    for w in word_tokens:\n",
    "        if w not in stop_words and w.isalnum():\n",
    "            filtered_sentence.append(w)\n",
    "            \n",
    "    fdist += FreqDist(word.lower() for word in filtered_sentence)"
   ]
  },
  {
   "cell_type": "code",
   "execution_count": 6,
   "id": "40e29049-91c2-40de-bb96-189344ae50d4",
   "metadata": {},
   "outputs": [
    {
     "name": "stdout",
     "output_type": "stream",
     "text": [
      "max occured word:  iadesi\n"
     ]
    }
   ],
   "source": [
    "print(\"max occured word: \", fdist.max())"
   ]
  },
  {
   "cell_type": "code",
   "execution_count": 7,
   "id": "f4436382-5634-4496-9679-51ed1f81d72f",
   "metadata": {},
   "outputs": [
    {
     "name": "stdout",
     "output_type": "stream",
     "text": [
      "total word count:  15046\n",
      "unique word count:  217\n"
     ]
    }
   ],
   "source": [
    "print(\"total word count: \", fdist.N())\n",
    "print(\"unique word count: \", fdist.B())"
   ]
  },
  {
   "cell_type": "code",
   "execution_count": 8,
   "id": "e41c36e8-cd3d-4828-bad5-b115c310c2df",
   "metadata": {},
   "outputs": [
    {
     "data": {
      "image/png": "[encoded data removed]",
      "text/plain": [
       "<Figure size 432x288 with 1 Axes>"
      ]
     },
     "metadata": {
      "needs_background": "light"
     },
     "output_type": "display_data"
    },
    {
     "data": {
      "text/plain": [
       "<AxesSubplot:xlabel='Samples', ylabel='Counts'>"
      ]
     },
     "execution_count": 8,
     "metadata": {},
     "output_type": "execute_result"
    }
   ],
   "source": [
    "fdist.plot(10)"
   ]
  }
 ],
 "metadata": {
  "kernelspec": {
   "display_name": "Python 3",
   "language": "python",
   "name": "python3"
  },
  "language_info": {
   "codemirror_mode": {
    "name": "ipython",
    "version": 3
   },
   "file_extension": ".py",
   "mimetype": "text/x-python",
   "name": "python",
   "nbconvert_exporter": "python",
   "pygments_lexer": "ipython3",
   "version": "3.9.6"
  }
 },
 "nbformat": 4,
 "nbformat_minor": 5
}
