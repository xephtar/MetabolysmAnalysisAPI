{
 "cells": [
  {
   "cell_type": "code",
   "execution_count": 10,
   "id": "18fbaade",
   "metadata": {},
   "outputs": [],
   "source": [
    "# Output directory\n",
    "import spacy\n",
    "from pathlib import Path\n",
    "from spacy.training import Example\n",
    "from spacy import displacy\n",
    "from IPython.core.display import display, HTML\n",
    "from IPython.display import clear_output\n",
    "import requests"
   ]
  },
  {
   "cell_type": "code",
   "execution_count": 27,
   "id": "a053356a",
   "metadata": {},
   "outputs": [
    {
     "name": "stdout",
     "output_type": "stream",
     "text": [
      "Loading from /Users/omerfaruk.davarci/Documents/MetabolysmAnalysisAPI/content2\n"
     ]
    }
   ],
   "source": [
    "output_dir=Path('/Users/omerfaruk.davarci/Documents/MetabolysmAnalysisAPI/content2')\n",
    "\n",
    "# Loading the model from the directory\n",
    "print(\"Loading from\", output_dir)\n",
    "nlp = spacy.load(output_dir)"
   ]
  },
  {
   "cell_type": "code",
   "execution_count": 19,
   "id": "9018fe69",
   "metadata": {},
   "outputs": [],
   "source": [
    "import json\n",
    "\n",
    "with open('data.json') as f:\n",
    "    data = json.load(f)"
   ]
  },
  {
   "cell_type": "code",
   "execution_count": 29,
   "id": "155e1287",
   "metadata": {},
   "outputs": [
    {
     "name": "stdout",
     "output_type": "stream",
     "text": [
      "['hibernation is a state of extraordinary metabolic plasticity. the pathways of amino acid metabolism as they relate to nitrogen homeostasis in hibernating mammals in vivo are unknown. here we show, using pulse isotopic tracing, evidence of increased myofibrillar (skeletal muscle) protein breakdown and suppressed whole-body production of metabolites in vivo throughout deep torpor. as whole-body production of metabolites is suppressed, amino acids with nitrogenous side chains accumulate during torpor, while urea cycle intermediates do not. using 15n stable isotope methodology in arctic ground squirrels (urocitellus parryii), we provide evidence that free nitrogen is buffered and recycled into essential amino acids, non-essential amino acids and the gamma-glutamyl system during the inter-bout arousal period of hibernation. in the absence of nutrient intake or physical activity, our data illustrate the orchestration of metabolic pathways that sustain the provision of essential and non-essential amino acids and prevent ammonia toxicity during hibernation.', {'entities': [[510, 520, 'PATHWAY']]}]\n"
     ]
    }
   ],
   "source": [
    "print(data[676])"
   ]
  },
  {
   "cell_type": "code",
   "execution_count": 21,
   "id": "73e3f359",
   "metadata": {},
   "outputs": [],
   "source": [
    "test_indexes = [150,406,513,101,535,700,814,809,395,31,196,484,390,676,465,642,285,60,77,299,685,14,267,145,666,55,868,344,816,474,872,770,876,432,790,622,308,181,337,318,877,538,279,630,97,304,836,706,626,692,8,144,483,580,270,542,230,363,266,301,215,306,520,391,34,609,668,764,27,30,582,732,760,384,271,878,372,283,293,202,317,806,526,758,742,824,527,672,568,586,695,874,236,720,787,382,590,475,204,506,253,456,331,379,716,358,258,252,428,638,5,717,457,103,434,247,808,342,826,272,142,403,796,686,519,776,113,727,249,40,338,214,158,175,567,563,839,447,718,141,667,511,62,79,491,351,840,263,345,530,356,546,477,505,85,604,75,239,772,316,364,829,1,413,873,689,828,794,710,813,140,319,362,367,264,320,466,222,200,162,587,632,460,726,416,54,45,172,255,193,471,409,39,614,533,18,557,156,231,641,50,843,748,640,122,576,167,784,627,859,10,105,68,240,310,698,261,412,602,545]"
   ]
  },
  {
   "cell_type": "code",
   "execution_count": 22,
   "id": "be866d8f",
   "metadata": {},
   "outputs": [],
   "source": [
    "examples = []\n",
    "i = 0\n",
    "for text, annots in data:\n",
    "    if i in test_indexes:\n",
    "        examples.append(Example.from_dict(nlp.make_doc(text), annots))\n",
    "    i += 1"
   ]
  },
  {
   "cell_type": "code",
   "execution_count": 31,
   "id": "49b854dd",
   "metadata": {},
   "outputs": [
    {
     "name": "stdout",
     "output_type": "stream",
     "text": [
      "{'token_acc': 1.0, 'token_p': 1.0, 'token_r': 1.0, 'token_f': 1.0, 'ents_p': 0.9059561128526645, 'ents_r': 0.9829931972789115, 'ents_f': 0.9429037520391517, 'ents_per_type': {'PATHWAY': {'p': 0.9059561128526645, 'r': 0.9829931972789115, 'f': 0.9429037520391517}}, 'sents_p': None, 'sents_r': None, 'sents_f': None, 'speed': 31518.827393855827}\n",
      "(urea cycle,)\n"
     ]
    }
   ],
   "source": [
    "results = nlp.evaluate(examples)\n",
    "print(results)"
   ]
  },
  {
   "cell_type": "code",
   "execution_count": 36,
   "id": "c1d8adf4",
   "metadata": {},
   "outputs": [
    {
     "name": "stdout",
     "output_type": "stream",
     "text": [
      "(phosphatidyglycerol synthesis, fatty acid synthesis, fatty acid synthesis)\n",
      "{'entities': [[819, 839, 'PATHWAY'], [1101, 1121, 'PATHWAY']]}\n"
     ]
    }
   ],
   "source": [
    "doc = nlp(data[77][0])\n",
    "print(doc.ents)\n",
    "print(data[700][1])"
   ]
  },
  {
   "cell_type": "code",
   "execution_count": null,
   "id": "5a490219",
   "metadata": {},
   "outputs": [],
   "source": [
    "z = 0\n",
    "for d in data:\n",
    "    if z in test_indexes:\n",
    "        doc = nlp(d[0])\n",
    "        print(\"#######################\")\n",
    "        print(\"Annotated:\")\n",
    "        print(d[1]['entities'])\n",
    "        print(\"\\n\\n\\n#######################\")\n",
    "        print(\"Found from model:\")\n",
    "        print(doc.ents)\n",
    "        for entity in doc.ents:\n",
    "            print(\"\\n\\n#######################\")\n",
    "            print('Entity extracted : ', entity.text)\n",
    "            print(\"\\n\\n#######################\")\n",
    "            print('Sentence extracted from : ', entity.sent)\n",
    "            print(\"\\n\\n#######################\")\n",
    "        html = displacy.render(doc, style=\"ent\")\n",
    "        input('Press ENTER to continue...')\n",
    "        clear_output(wait=True)\n",
    "    z += 1"
   ]
  },
  {
   "cell_type": "code",
   "execution_count": null,
   "id": "03a7888c",
   "metadata": {},
   "outputs": [],
   "source": [
    "import csv\n",
    "\n",
    "patterns = []\n",
    "\n",
    "nlp2 = spacy.load(\"en_core_web_sm\")\n",
    "\n",
    "\n",
    "with open('pathways.csv') as csv_file:\n",
    "    csv_reader = csv.reader(csv_file, delimiter=',')\n",
    "    line_count = 0\n",
    "    for row in csv_reader:\n",
    "        if line_count != 0:\n",
    "            keys = []\n",
    "            doc = nlp2(row[0])\n",
    "\n",
    "            for token in doc:\n",
    "                if token.pos_ != \"PUNCT\":\n",
    "                    keys.append({\"LOWER\": token.text})\n",
    "            obj = {\"label\": \"PATHWAY\", \"pattern\": keys}\n",
    "            patterns.append(obj)\n",
    "        line_count += 1\n",
    "\n",
    "ruler.add_patterns(patterns)"
   ]
  },
  {
   "cell_type": "code",
   "execution_count": 9,
   "id": "05b084f5",
   "metadata": {},
   "outputs": [],
   "source": [
    "ruler.add_patterns([{\"label\": \"PATHWAY\", \"pattern\": \"glycolysis\"}])"
   ]
  },
  {
   "cell_type": "code",
   "execution_count": 12,
   "id": "9a1380f2",
   "metadata": {},
   "outputs": [
    {
     "name": "stdout",
     "output_type": "stream",
     "text": [
      "Saved model to /Users/omerfaruk.davarci/Documents/MetabolysmAnalysisAPI/content2\n"
     ]
    }
   ],
   "source": [
    "# Output directory\n",
    "from pathlib import Path\n",
    "output_dir=Path('/Users/omerfaruk.davarci/Documents/MetabolysmAnalysisAPI/content2')\n",
    "# Saving the model to the output directory\n",
    "if not output_dir.exists():\n",
    "    output_dir.mkdir()\n",
    "nlp.meta['name'] = 'pathway_ner_model'  # rename model\n",
    "nlp.to_disk(output_dir)\n",
    "print(\"Saved model to\", output_dir)"
   ]
  }
 ],
 "metadata": {
  "kernelspec": {
   "display_name": "Django Shell-Plus",
   "language": "python",
   "name": "django_extensions"
  },
  "language_info": {
   "codemirror_mode": {
    "name": "ipython",
    "version": 3
   },
   "file_extension": ".py",
   "mimetype": "text/x-python",
   "name": "python",
   "nbconvert_exporter": "python",
   "pygments_lexer": "ipython3",
   "version": "3.9.6"
  }
 },
 "nbformat": 4,
 "nbformat_minor": 5
}
