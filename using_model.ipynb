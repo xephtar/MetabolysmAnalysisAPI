{
 "cells": [
  {
   "cell_type": "code",
   "execution_count": 1,
   "id": "18fbaade",
   "metadata": {},
   "outputs": [],
   "source": [
    "# Output directory\n",
    "import spacy\n",
    "from pathlib import Path\n",
    "from spacy.training import Example\n",
    "from spacy import displacy\n",
    "from IPython.core.display import display, HTML\n",
    "from IPython.display import clear_output"
   ]
  },
  {
   "cell_type": "code",
   "execution_count": 4,
   "id": "a053356a",
   "metadata": {},
   "outputs": [
    {
     "name": "stdout",
     "output_type": "stream",
     "text": [
      "Loading from \\content\n",
      "\\content\n"
     ]
    }
   ],
   "source": [
    "output_dir=Path('/content/')\n",
    "\n",
    "# Loading the model from the directory\n",
    "print(\"Loading from\", output_dir)\n",
    "nlp = spacy.load(output_dir)"
   ]
  },
  {
   "cell_type": "code",
   "execution_count": 3,
   "id": "9018fe69",
   "metadata": {},
   "outputs": [],
   "source": [
    "import json\n",
    "\n",
    "with open('data.json') as f:\n",
    "    data = json.load(f)"
   ]
  },
  {
   "cell_type": "code",
   "execution_count": 4,
   "id": "155e1287",
   "metadata": {},
   "outputs": [
    {
     "name": "stdout",
     "output_type": "stream",
     "text": [
      "[\"immunotherapies have shown remarkable success in the treatment of multiple cancer types; however, despite encouraging preclinical activity, registration trials of immunotherapy in prostate cancer have largely been unsuccessful. sipuleucel-t remains the only approved immunotherapy for the treatment of asymptomatic or minimally symptomatic metastatic castrate-resistant prostate cancer based on modest improvement in overall survival. this immune evasion in the case of prostate cancer has been attributed to tumor-intrinsic factors, an immunosuppressive tumor\\xa0microenvironment, and host factors, which ultimately make it an inert 'cold' tumor.\\xa0recently,\\xa0multiple approaches have been investigated to turn prostate cancer into a 'hot' tumor. antibodies directed against programmed cell death protein 1 have a tumor agnostic approval for a small minority of patients with microsatellite instability-high or mismatch repair-deficient metastatic prostate cancer. herein, we present an overview of the current immunotherapy landscape in metastatic castration-resistant prostate cancer with a focus on immune checkpoint inhibitors. we describe the results of clinical trials of immune checkpoint inhibitors in patients with metastatic castration-resistant prostate cancer; either as single agents or in combination with other checkpoint inhibitors, poly (adp-ribose) polymerase (parp) inhibitors, tyrosine kinase inhibitors, novel hormonal therapies, chemotherapies, and radioligands. finally, we review upcoming immunotherapies, including novel monoclonal antibodies, chimeric-antigen receptor (car) t cells, bi-specific t cell engagers (bites), therapies targeting the adenosine pathway, and other miscellaneous agents.\", {'entities': [[1695, 1708, 'PATHWAY']]}]\n"
     ]
    }
   ],
   "source": [
    "print(data[0])"
   ]
  },
  {
   "cell_type": "code",
   "execution_count": 5,
   "id": "73e3f359",
   "metadata": {},
   "outputs": [],
   "source": [
    "test_indexes = [150,406,513,101,535,700,814,809,395,31,196,484,390,676,465,642,285,60,77,299,685,14,267,145,666,55,868,344,816,474,872,770,876,432,790,622,308,181,337,318,877,538,279,630,97,304,836,706,626,692,8,144,483,580,270,542,230,363,266,301,215,306,520,391,34,609,668,764,27,30,582,732,760,384,271,878,372,283,293,202,317,806,526,758,742,824,527,672,568,586,695,874,236,720,787,382,590,475,204,506,253,456,331,379,716,358,258,252,428,638,5,717,457,103,434,247,808,342,826,272,142,403,796,686,519,776,113,727,249,40,338,214,158,175,567,563,839,447,718,141,667,511,62,79,491,351,840,263,345,530,356,546,477,505,85,604,75,239,772,316,364,829,1,413,873,689,828,794,710,813,140,319,362,367,264,320,466,222,200,162,587,632,460,726,416,54,45,172,255,193,471,409,39,614,533,18,557,156,231,641,50,843,748,640,122,576,167,784,627,859,10,105,68,240,310,698,261,412,602,545]"
   ]
  },
  {
   "cell_type": "code",
   "execution_count": 6,
   "id": "be866d8f",
   "metadata": {},
   "outputs": [
    {
     "name": "stderr",
     "output_type": "stream",
     "text": [
      "C:\\Users\\omer.davarci\\PycharmProjects\\MetabolysmAnalysisAPI\\venv\\lib\\site-packages\\spacy\\training\\iob_utils.py:139: UserWarning: [W030] Some entities could not be aligned in the text \"the effects of the organophosphorous insecticide, ...\" with entities \"[[117, 134, 'PATHWAY']]\". Use `spacy.training.offsets_to_biluo_tags(nlp.make_doc(text), entities)` to check the alignment. Misaligned entities ('-') will be ignored during training.\n",
      "  warnings.warn(\n",
      "C:\\Users\\omer.davarci\\PycharmProjects\\MetabolysmAnalysisAPI\\venv\\lib\\site-packages\\spacy\\training\\iob_utils.py:139: UserWarning: [W030] Some entities could not be aligned in the text \"vitamin a toxicity, caused by oral administration ...\" with entities \"[[681, 698, 'PATHWAY']]\". Use `spacy.training.offsets_to_biluo_tags(nlp.make_doc(text), entities)` to check the alignment. Misaligned entities ('-') will be ignored during training.\n",
      "  warnings.warn(\n",
      "C:\\Users\\omer.davarci\\PycharmProjects\\MetabolysmAnalysisAPI\\venv\\lib\\site-packages\\spacy\\training\\iob_utils.py:139: UserWarning: [W030] Some entities could not be aligned in the text \"gonorrhea has been known since antiquity. today, t...\" with entities \"[[865, 890, 'PATHWAY']]\". Use `spacy.training.offsets_to_biluo_tags(nlp.make_doc(text), entities)` to check the alignment. Misaligned entities ('-') will be ignored during training.\n",
      "  warnings.warn(\n",
      "C:\\Users\\omer.davarci\\PycharmProjects\\MetabolysmAnalysisAPI\\venv\\lib\\site-packages\\spacy\\training\\iob_utils.py:139: UserWarning: [W030] Some entities could not be aligned in the text \"the amino acid sequences of two neurotoxins of the...\" with entities \"[[148, 167, 'PATHWAY']]\". Use `spacy.training.offsets_to_biluo_tags(nlp.make_doc(text), entities)` to check the alignment. Misaligned entities ('-') will be ignored during training.\n",
      "  warnings.warn(\n",
      "C:\\Users\\omer.davarci\\PycharmProjects\\MetabolysmAnalysisAPI\\venv\\lib\\site-packages\\spacy\\training\\iob_utils.py:139: UserWarning: [W030] Some entities could not be aligned in the text \"synthesis of heme and cytochrome p-450 have been s...\" with entities \"[[746, 760, 'PATHWAY'], [1337, 1351, 'PATHWAY'], [...\". Use `spacy.training.offsets_to_biluo_tags(nlp.make_doc(text), entities)` to check the alignment. Misaligned entities ('-') will be ignored during training.\n",
      "  warnings.warn(\n",
      "C:\\Users\\omer.davarci\\PycharmProjects\\MetabolysmAnalysisAPI\\venv\\lib\\site-packages\\spacy\\training\\iob_utils.py:139: UserWarning: [W030] Some entities could not be aligned in the text \"the mechanism of glycogen content changes in the h...\" with entities \"[[844, 861, 'PATHWAY']]\". Use `spacy.training.offsets_to_biluo_tags(nlp.make_doc(text), entities)` to check the alignment. Misaligned entities ('-') will be ignored during training.\n",
      "  warnings.warn(\n",
      "C:\\Users\\omer.davarci\\PycharmProjects\\MetabolysmAnalysisAPI\\venv\\lib\\site-packages\\spacy\\training\\iob_utils.py:139: UserWarning: [W030] Some entities could not be aligned in the text \"insulin is the key hormone of carbohydrate metabol...\" with entities \"[[753, 770, 'PATHWAY']]\". Use `spacy.training.offsets_to_biluo_tags(nlp.make_doc(text), entities)` to check the alignment. Misaligned entities ('-') will be ignored during training.\n",
      "  warnings.warn(\n",
      "C:\\Users\\omer.davarci\\PycharmProjects\\MetabolysmAnalysisAPI\\venv\\lib\\site-packages\\spacy\\training\\iob_utils.py:139: UserWarning: [W030] Some entities could not be aligned in the text \"1. glycogen phosphorylase (a form, in rapidly free...\" with entities \"[[1102, 1124, 'PATHWAY']]\". Use `spacy.training.offsets_to_biluo_tags(nlp.make_doc(text), entities)` to check the alignment. Misaligned entities ('-') will be ignored during training.\n",
      "  warnings.warn(\n",
      "C:\\Users\\omer.davarci\\PycharmProjects\\MetabolysmAnalysisAPI\\venv\\lib\\site-packages\\spacy\\training\\iob_utils.py:139: UserWarning: [W030] Some entities could not be aligned in the text \"some mechanisms of interference developing in balb...\" with entities \"[[1179, 1196, 'PATHWAY']]\". Use `spacy.training.offsets_to_biluo_tags(nlp.make_doc(text), entities)` to check the alignment. Misaligned entities ('-') will be ignored during training.\n",
      "  warnings.warn(\n",
      "C:\\Users\\omer.davarci\\PycharmProjects\\MetabolysmAnalysisAPI\\venv\\lib\\site-packages\\spacy\\training\\iob_utils.py:139: UserWarning: [W030] Some entities could not be aligned in the text \"fetal programming implies that the maternal diet d...\" with entities \"[[977, 994, 'PATHWAY']]\". Use `spacy.training.offsets_to_biluo_tags(nlp.make_doc(text), entities)` to check the alignment. Misaligned entities ('-') will be ignored during training.\n",
      "  warnings.warn(\n"
     ]
    }
   ],
   "source": [
    "examples = []\n",
    "i = 0\n",
    "for text, annots in data:\n",
    "    if i in test_indexes:\n",
    "        examples.append(Example.from_dict(nlp.make_doc(text), annots))\n",
    "    i += 1"
   ]
  },
  {
   "cell_type": "code",
   "execution_count": 7,
   "id": "49b854dd",
   "metadata": {},
   "outputs": [
    {
     "name": "stdout",
     "output_type": "stream",
     "text": [
      "{'token_acc': 1.0, 'token_p': 1.0, 'token_r': 1.0, 'token_f': 1.0, 'ents_p': 0.9761904761904762, 'ents_r': 0.9761904761904762, 'ents_f': 0.9761904761904762, 'ents_per_type': {'PATHWAY': {'p': 0.9761904761904762, 'r': 0.9761904761904762, 'f': 0.9761904761904762}}, 'speed': 37668.26620432282}\n"
     ]
    }
   ],
   "source": [
    "results = nlp.evaluate(examples)\n",
    "print(results)"
   ]
  },
  {
   "cell_type": "code",
   "execution_count": 8,
   "id": "5a490219",
   "metadata": {},
   "outputs": [
    {
     "name": "stdout",
     "output_type": "stream",
     "text": [
      "#######################\n",
      "Annotated:\n",
      "[[250, 265, 'PATHWAY']]\n",
      "\n",
      "\n",
      "\n",
      "#######################\n",
      "Found from model:\n",
      "(drug metabolism,)\n"
     ]
    },
    {
     "data": {
      "text/html": [
       "<span class=\"tex2jax_ignore\"><div class=\"entities\" style=\"line-height: 2.5; direction: ltr\">acute and chronic ethanol ingestion can alter both the pharmacodynamics and pharmacokinetics of other drugs. for psychotherapeutic drugs, modification of drug action by alcohol is much more important than kinetic interaction, such as ethanol induced \n",
       "<mark class=\"entity\" style=\"background: #ddd; padding: 0.45em 0.6em; margin: 0 0.25em; line-height: 1; border-radius: 0.35em;\">\n",
       "    drug metabolism\n",
       "    <span style=\"font-size: 0.8em; font-weight: bold; line-height: 1; border-radius: 0.35em; vertical-align: middle; margin-left: 0.5rem\">PATHWAY</span>\n",
       "</mark>\n",
       ". in contrast, the importance of the effects of alcohol on the kinetics of other classes of drug is incomplete. the probability and mechanism of alcohol kinetic interactions with other drugs can nevertheless be anticipated, in part, on the basis of the extent of binding of the drug to plasma proteins, the capacity of the liver for extracting the drug from blood passing through the liver and the true distribution space of the drug. highly bound drugs with low intrinsic hepatic clearance are among the most commonly reported to have their kinetics altered by ethanol (e.g. benzodiazepines, phenytoin, tolbutamide and warfarin). less highly bound drugs are less consistently affected (e.g. meprobamate, glutethimide, pentobarbitone and phenobarbitone). acute administration of ethanol to laboratory animals or incubation of microsomal preparations with ethanol inhibits the mixed function oxidase activity. in the human, the elimination half-life of meprobamate, pentobarbitone and tolbutamide is increased by acute ethanol administration. chronic administration of ethanol to rats and humans causes proliferation of the smooth endoplasmic reticulum, increase in microsomal protein content and cytochrome p450 and results in an augmentation in drug metabolising ability of the microsomes in vitro. even though the plasma half-life of some drugs is decreased by chronic ethanol ingestion, the clinical determination of the mechanism is incomplete because few studies have measured drug metabolite levels. in addition, alcohol effects on drug distribution have not been studied very extensively. the effects of chronic alcohol ingestion on drugs with low and high hepatic extraction, high and low binding, important tissue localisation and microsomal and non-microsomal metabolism will be quite different. systematic studies of the mechanism of alcohol kinetic interactions are needed. such kinetic studies should be combined with pharmacodynamic measures in order to establish the clinical importance of changes in drug kinetics.</div></span>"
      ],
      "text/plain": [
       "<IPython.core.display.HTML object>"
      ]
     },
     "metadata": {},
     "output_type": "display_data"
    },
    {
     "ename": "KeyboardInterrupt",
     "evalue": "Interrupted by user",
     "output_type": "error",
     "traceback": [
      "\u001b[1;31m---------------------------------------------------------------------------\u001b[0m",
      "\u001b[1;31mKeyboardInterrupt\u001b[0m                         Traceback (most recent call last)",
      "\u001b[1;32m<ipython-input-8-898de7f05ea3>\u001b[0m in \u001b[0;36m<module>\u001b[1;34m\u001b[0m\n\u001b[0;32m     10\u001b[0m         \u001b[0mprint\u001b[0m\u001b[1;33m(\u001b[0m\u001b[0mdoc\u001b[0m\u001b[1;33m.\u001b[0m\u001b[0ments\u001b[0m\u001b[1;33m)\u001b[0m\u001b[1;33m\u001b[0m\u001b[1;33m\u001b[0m\u001b[0m\n\u001b[0;32m     11\u001b[0m         \u001b[0mhtml\u001b[0m \u001b[1;33m=\u001b[0m \u001b[0mdisplacy\u001b[0m\u001b[1;33m.\u001b[0m\u001b[0mrender\u001b[0m\u001b[1;33m(\u001b[0m\u001b[0mdoc\u001b[0m\u001b[1;33m,\u001b[0m \u001b[0mstyle\u001b[0m\u001b[1;33m=\u001b[0m\u001b[1;34m\"ent\"\u001b[0m\u001b[1;33m)\u001b[0m\u001b[1;33m\u001b[0m\u001b[1;33m\u001b[0m\u001b[0m\n\u001b[1;32m---> 12\u001b[1;33m         \u001b[0minput\u001b[0m\u001b[1;33m(\u001b[0m\u001b[1;34m'Press ENTER to continue...'\u001b[0m\u001b[1;33m)\u001b[0m\u001b[1;33m\u001b[0m\u001b[1;33m\u001b[0m\u001b[0m\n\u001b[0m\u001b[0;32m     13\u001b[0m         \u001b[0mclear_output\u001b[0m\u001b[1;33m(\u001b[0m\u001b[0mwait\u001b[0m\u001b[1;33m=\u001b[0m\u001b[1;32mTrue\u001b[0m\u001b[1;33m)\u001b[0m\u001b[1;33m\u001b[0m\u001b[1;33m\u001b[0m\u001b[0m\n\u001b[0;32m     14\u001b[0m     \u001b[0mz\u001b[0m \u001b[1;33m+=\u001b[0m \u001b[1;36m1\u001b[0m\u001b[1;33m\u001b[0m\u001b[1;33m\u001b[0m\u001b[0m\n",
      "\u001b[1;32m~\\PycharmProjects\\MetabolysmAnalysisAPI\\venv\\lib\\site-packages\\ipykernel\\kernelbase.py\u001b[0m in \u001b[0;36mraw_input\u001b[1;34m(self, prompt)\u001b[0m\n\u001b[0;32m    846\u001b[0m                 \u001b[1;34m\"raw_input was called, but this frontend does not support input requests.\"\u001b[0m\u001b[1;33m\u001b[0m\u001b[1;33m\u001b[0m\u001b[0m\n\u001b[0;32m    847\u001b[0m             )\n\u001b[1;32m--> 848\u001b[1;33m         return self._input_request(str(prompt),\n\u001b[0m\u001b[0;32m    849\u001b[0m             \u001b[0mself\u001b[0m\u001b[1;33m.\u001b[0m\u001b[0m_parent_ident\u001b[0m\u001b[1;33m,\u001b[0m\u001b[1;33m\u001b[0m\u001b[1;33m\u001b[0m\u001b[0m\n\u001b[0;32m    850\u001b[0m             \u001b[0mself\u001b[0m\u001b[1;33m.\u001b[0m\u001b[0m_parent_header\u001b[0m\u001b[1;33m,\u001b[0m\u001b[1;33m\u001b[0m\u001b[1;33m\u001b[0m\u001b[0m\n",
      "\u001b[1;32m~\\PycharmProjects\\MetabolysmAnalysisAPI\\venv\\lib\\site-packages\\ipykernel\\kernelbase.py\u001b[0m in \u001b[0;36m_input_request\u001b[1;34m(self, prompt, ident, parent, password)\u001b[0m\n\u001b[0;32m    890\u001b[0m             \u001b[1;32mexcept\u001b[0m \u001b[0mKeyboardInterrupt\u001b[0m\u001b[1;33m:\u001b[0m\u001b[1;33m\u001b[0m\u001b[1;33m\u001b[0m\u001b[0m\n\u001b[0;32m    891\u001b[0m                 \u001b[1;31m# re-raise KeyboardInterrupt, to truncate traceback\u001b[0m\u001b[1;33m\u001b[0m\u001b[1;33m\u001b[0m\u001b[1;33m\u001b[0m\u001b[0m\n\u001b[1;32m--> 892\u001b[1;33m                 \u001b[1;32mraise\u001b[0m \u001b[0mKeyboardInterrupt\u001b[0m\u001b[1;33m(\u001b[0m\u001b[1;34m\"Interrupted by user\"\u001b[0m\u001b[1;33m)\u001b[0m \u001b[1;32mfrom\u001b[0m \u001b[1;32mNone\u001b[0m\u001b[1;33m\u001b[0m\u001b[1;33m\u001b[0m\u001b[0m\n\u001b[0m\u001b[0;32m    893\u001b[0m             \u001b[1;32mexcept\u001b[0m \u001b[0mException\u001b[0m \u001b[1;32mas\u001b[0m \u001b[0me\u001b[0m\u001b[1;33m:\u001b[0m\u001b[1;33m\u001b[0m\u001b[1;33m\u001b[0m\u001b[0m\n\u001b[0;32m    894\u001b[0m                 \u001b[0mself\u001b[0m\u001b[1;33m.\u001b[0m\u001b[0mlog\u001b[0m\u001b[1;33m.\u001b[0m\u001b[0mwarning\u001b[0m\u001b[1;33m(\u001b[0m\u001b[1;34m\"Invalid Message:\"\u001b[0m\u001b[1;33m,\u001b[0m \u001b[0mexc_info\u001b[0m\u001b[1;33m=\u001b[0m\u001b[1;32mTrue\u001b[0m\u001b[1;33m)\u001b[0m\u001b[1;33m\u001b[0m\u001b[1;33m\u001b[0m\u001b[0m\n",
      "\u001b[1;31mKeyboardInterrupt\u001b[0m: Interrupted by user"
     ]
    }
   ],
   "source": [
    "z = 0\n",
    "for d in data:\n",
    "    if z in test_indexes:\n",
    "        doc = nlp(d[0])\n",
    "        print(\"#######################\")\n",
    "        print(\"Annotated:\")\n",
    "        print(d[1]['entities'])\n",
    "        print(\"\\n\\n\\n#######################\")\n",
    "        print(\"Found from model:\")\n",
    "        print(doc.ents)\n",
    "        html = displacy.render(doc, style=\"ent\")\n",
    "        input('Press ENTER to continue...')\n",
    "        clear_output(wait=True)\n",
    "    z += 1"
   ]
  },
  {
   "cell_type": "code",
   "execution_count": null,
   "id": "330701d6",
   "metadata": {},
   "outputs": [],
   "source": []
  }
 ],
 "metadata": {
  "kernelspec": {
   "display_name": "Django Shell-Plus",
   "language": "python",
   "name": "django_extensions"
  },
  "language_info": {
   "codemirror_mode": {
    "name": "ipython",
    "version": 3
   },
   "file_extension": ".py",
   "mimetype": "text/x-python",
   "name": "python",
   "nbconvert_exporter": "python",
   "pygments_lexer": "ipython3",
   "version": "3.8.6"
  }
 },
 "nbformat": 4,
 "nbformat_minor": 5
}
