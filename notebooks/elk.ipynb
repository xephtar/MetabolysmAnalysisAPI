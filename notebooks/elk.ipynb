{
 "cells": [
  {
   "cell_type": "code",
   "execution_count": 2,
   "id": "07ddb63d",
   "metadata": {},
   "outputs": [],
   "source": [
    "from datetime import datetime\n",
    "from elasticsearch import Elasticsearch"
   ]
  },
  {
   "cell_type": "code",
   "execution_count": 3,
   "id": "0d0af74c",
   "metadata": {},
   "outputs": [],
   "source": [
    "es = Elasticsearch()"
   ]
  },
  {
   "cell_type": "code",
   "execution_count": 8,
   "id": "b4b0b38e",
   "metadata": {},
   "outputs": [
    {
     "name": "stdout",
     "output_type": "stream",
     "text": [
      "created\n"
     ]
    }
   ],
   "source": [
    "doc = {\n",
    "    'id': 1,\n",
    "    'author': 'John Doe',\n",
    "    'text': 'Abstract text is here!',\n",
    "    'timestamp': datetime.now(),\n",
    "}\n",
    "res = es.index(index=\"test-index\", id=doc['id'], body=doc)\n",
    "print(res['result'])"
   ]
  },
  {
   "cell_type": "code",
   "execution_count": 5,
   "id": "681d4006",
   "metadata": {},
   "outputs": [
    {
     "name": "stdout",
     "output_type": "stream",
     "text": [
      "{'id': 1, 'author': 'kim1', 'text': 'Elasticsearch: cool. bonsai cool.', 'timestamp': '2021-06-21T13:52:50.079522'}\n"
     ]
    }
   ],
   "source": [
    "res = es.get(index=\"test-index\", id=1)\n",
    "print(res['_source'])"
   ]
  },
  {
   "cell_type": "code",
   "execution_count": 6,
   "id": "dee766e3",
   "metadata": {},
   "outputs": [
    {
     "name": "stdout",
     "output_type": "stream",
     "text": [
      "Got 1 Hits:\n",
      "1\n",
      "2021-06-21T13:52:50.079522 kim1: Elasticsearch: cool. bonsai cool.\n"
     ]
    }
   ],
   "source": [
    "es.indices.refresh(index=\"test-index\")\n",
    "\n",
    "res = es.search(index=\"test-index\", body={\"query\": {\"match_all\": {}}})\n",
    "print(\"Got %d Hits:\" % res['hits']['total']['value'])\n",
    "for hit in res['hits']['hits']:\n",
    "    print(hit[\"_id\"])\n",
    "    print(\"%(timestamp)s %(author)s: %(text)s\" % hit[\"_source\"])"
   ]
  },
  {
   "cell_type": "code",
   "execution_count": 7,
   "id": "060c1fa3",
   "metadata": {},
   "outputs": [
    {
     "data": {
      "text/plain": [
       "{'acknowledged': True}"
      ]
     },
     "execution_count": 7,
     "metadata": {},
     "output_type": "execute_result"
    }
   ],
   "source": [
    "es.indices.delete(index='test-index', ignore=[400, 404])"
   ]
  }
 ],
 "metadata": {
  "kernelspec": {
   "display_name": "Django Shell-Plus",
   "language": "python",
   "name": "django_extensions"
  },
  "language_info": {
   "codemirror_mode": {
    "name": "ipython",
    "version": 3
   },
   "file_extension": ".py",
   "mimetype": "text/x-python",
   "name": "python",
   "nbconvert_exporter": "python",
   "pygments_lexer": "ipython3",
   "version": "3.9.5"
  }
 },
 "nbformat": 4,
 "nbformat_minor": 5
}
