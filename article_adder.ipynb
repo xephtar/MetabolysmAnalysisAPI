{
 "cells": [
  {
   "cell_type": "code",
   "execution_count": 4,
   "id": "ddfd9fd9",
   "metadata": {},
   "outputs": [],
   "source": [
    "import requests\n",
    "from articles.models import Article, Author, Pathway\n",
    "\n",
    "url = \"https://www.ebi.ac.uk/europepmc/webservices/rest/searchPOST?query=urea%20cycle&resultType=core&format=json&pageSize=100\"\n",
    "\n",
    "payload = {}\n",
    "files = {}\n",
    "headers = {\n",
    "    'Content-Type': 'application/x-www-form-urlencoded'\n",
    "}\n",
    "\n",
    "response = requests.request(\"POST\", url, headers=headers, data=payload, files=files).json()"
   ]
  },
  {
   "cell_type": "code",
   "execution_count": 5,
   "id": "313ea315",
   "metadata": {},
   "outputs": [],
   "source": [
    "import os\n",
    "import django\n",
    "os.environ.setdefault('DJANGO_SETTINGS_MODULE', 'gproject.settings')\n",
    "os.environ[\"DJANGO_ALLOW_ASYNC_UNSAFE\"] = \"true\"\n",
    "django.setup()"
   ]
  },
  {
   "cell_type": "code",
   "execution_count": 8,
   "id": "439f24ab",
   "metadata": {},
   "outputs": [
    {
     "name": "stdout",
     "output_type": "stream",
     "text": [
      "Urea cycle\n"
     ]
    }
   ],
   "source": [
    "a = Pathway.objects.get(name__icontains=\"urea\")\n",
    "print(a.name)"
   ]
  },
  {
   "cell_type": "code",
   "execution_count": 9,
   "id": "f8abd733",
   "metadata": {},
   "outputs": [
    {
     "name": "stdout",
     "output_type": "stream",
     "text": [
      "'abstractText'\n",
      "'abstractText'\n",
      "'doi'\n",
      "'abstractText'\n",
      "'abstractText'\n",
      "'abstractText'\n"
     ]
    }
   ],
   "source": [
    "for m in response['resultList']['result']:\n",
    "    try:\n",
    "        article, created = Article.objects.get_or_create(abstract_text=m['abstractText'], pub_date=m['firstPublicationDate'], name=m['title'], doi=m['doi'])\n",
    "        article.pathways.add(a)\n",
    "    except Exception as e:\n",
    "        print(e)\n",
    "        "
   ]
  }
 ],
 "metadata": {
  "kernelspec": {
   "display_name": "Django Shell-Plus",
   "language": "python",
   "name": "django_extensions"
  },
  "language_info": {
   "codemirror_mode": {
    "name": "ipython",
    "version": 3
   },
   "file_extension": ".py",
   "mimetype": "text/x-python",
   "name": "python",
   "nbconvert_exporter": "python",
   "pygments_lexer": "ipython3",
   "version": "3.9.5"
  }
 },
 "nbformat": 4,
 "nbformat_minor": 5
}
