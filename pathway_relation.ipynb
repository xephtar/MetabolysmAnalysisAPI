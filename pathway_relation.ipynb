{
 "cells": [
  {
   "cell_type": "code",
   "execution_count": 6,
   "id": "badaa302",
   "metadata": {},
   "outputs": [],
   "source": [
    "import os\n",
    "import django\n",
    "os.environ.setdefault('DJANGO_SETTINGS_MODULE', 'gproject.settings')\n",
    "os.environ[\"DJANGO_ALLOW_ASYNC_UNSAFE\"] = \"true\"\n",
    "django.setup()"
   ]
  },
  {
   "cell_type": "code",
   "execution_count": 7,
   "id": "c4a89ab3",
   "metadata": {},
   "outputs": [],
   "source": [
    "from articles.models import Article, Pathway"
   ]
  },
  {
   "cell_type": "code",
   "execution_count": 3,
   "id": "07b07265",
   "metadata": {},
   "outputs": [],
   "source": [
    "all_pathways = Pathway.objects.all()"
   ]
  },
  {
   "cell_type": "code",
   "execution_count": 4,
   "id": "a18e6df4",
   "metadata": {},
   "outputs": [],
   "source": [
    "all_articles = Article.objects.all()"
   ]
  },
  {
   "cell_type": "code",
   "execution_count": 5,
   "id": "83525a1b",
   "metadata": {},
   "outputs": [
    {
     "name": "stdout",
     "output_type": "stream",
     "text": [
      "13\n"
     ]
    }
   ],
   "source": [
    "i = 0\n",
    "for ar in all_articles:\n",
    "    abstractText = ar.abstract_text.lower()\n",
    "    for me in all_pathways:\n",
    "        nameOfPathway = me.name.lower()\n",
    "        if nameOfPathway != \"\":\n",
    "            if nameOfPathway in abstractText:\n",
    "                ar.pathways.add(me)\n",
    "    i += 1\n",
    "    print(ar.id)\n",
    "    if i == 10:\n",
    "        break"
   ]
  }
 ],
 "metadata": {
  "kernelspec": {
   "display_name": "Python 3",
   "language": "python",
   "name": "python3"
  },
  "language_info": {
   "codemirror_mode": {
    "name": "ipython",
    "version": 3
   },
   "file_extension": ".py",
   "mimetype": "text/x-python",
   "name": "python",
   "nbconvert_exporter": "python",
   "pygments_lexer": "ipython3",
   "version": "3.8.6"
  }
 },
 "nbformat": 4,
 "nbformat_minor": 5
}
